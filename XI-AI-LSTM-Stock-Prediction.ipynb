{
 "cells": [
  {
   "cell_type": "code",
   "execution_count": null,
   "id": "bd066cad",
   "metadata": {},
   "outputs": [],
   "source": [
    "\n",
    "from kiteconnect import KiteTicker, KiteConnect\n",
    "import datetime as dt\n",
    "import sys\n",
    "import pandas as pd\n",
    "import os\n",
    "import time\n",
    "import numpy as np\n",
    "import pandas_ta as ta\n",
    "import requests\n",
    "from urllib3.util.retry import Retry\n",
    "from requests.adapters import HTTPAdapter"
   ]
  },
  {
   "cell_type": "code",
   "execution_count": null,
   "id": "369710d4",
   "metadata": {},
   "outputs": [],
   "source": [
    "cwd = os.chdir(r\"C:\\Users\\Admin\\stocksdata\")\n",
    "#generate trading session\n",
    "access_token = open(\"access_token.txt\",'r').read()\n",
    "key_secret = open(\"api_key.txt\",'r').read().split()\n",
    "kite = KiteConnect(api_key=key_secret[0])\n",
    "kite.set_access_token(access_token)"
   ]
  },
  {
   "cell_type": "code",
   "execution_count": null,
   "id": "0157af21",
   "metadata": {},
   "outputs": [],
   "source": [
    "instrument_dump = kite.instruments(\"NSE\") \n",
    "instrument_df = pd.DataFrame(instrument_dump)\n",
    "\n",
    "def instrumentLookup(instrument_df,symbol):\n",
    "    \"\"\"Looks up instrument token for a given script from instrument dump\"\"\"\n",
    "    try:\n",
    "        return instrument_df[instrument_df.tradingsymbol==symbol].instrument_token.values[0]\n",
    "    except:\n",
    "        return -1\n",
    "    \n",
    "def fetchOHLC(ticker,interval,duration):\n",
    "    \"\"\"extracts historical data and outputs in the form of dataframe\"\"\"\n",
    "    instrument = instrumentLookup(instrument_df,ticker)\n",
    "    data = pd.DataFrame(kite.historical_data(instrument,dt.date.today()-dt.timedelta(duration), dt.date.today(),interval))\n",
    "    data.set_index(\"date\",inplace=True)\n",
    "    return data"
   ]
  },
  {
   "cell_type": "code",
   "execution_count": null,
   "id": "9bf70bf2",
   "metadata": {},
   "outputs": [],
   "source": [
    "instrument_dump_nfo = kite.instruments(\"NFO\") \n",
    "instrument_df_nfo = pd.DataFrame(instrument_dump_nfo)\n",
    "fno=instrument_df_nfo[\"name\"].unique()"
   ]
  },
  {
   "cell_type": "code",
   "execution_count": null,
   "id": "c0d1b5b0",
   "metadata": {},
   "outputs": [],
   "source": [
    "def OHLC_data(ticker):\n",
    " \n",
    "    data = fetchOHLC(ticker,\"5minute\",100)\n",
    "    ohlc_dict = {\n",
    "        'open':'first',\n",
    "        'high':'max',\n",
    "        'low':'min',\n",
    "        'close':'last',\n",
    "        'volume':'sum'\n",
    "        }\n",
    "\n",
    "    #data1 = data.resample('W').agg(ohlc_dict)\n",
    "   # print(data1)\n",
    "    #pd.concat([data,data1], axis=0, join='inner')\n",
    "    #data1 = data1.copy()\n",
    "    data[\"Entity Name\"] = ticker\n",
    "    \n",
    "    return(data)"
   ]
  },
  {
   "cell_type": "code",
   "execution_count": null,
   "id": "809bcb93",
   "metadata": {},
   "outputs": [],
   "source": [
    "data =OHLC_data(\"GAIL\")\n",
    "data"
   ]
  },
  {
   "cell_type": "code",
   "execution_count": null,
   "id": "b924e69f",
   "metadata": {},
   "outputs": [],
   "source": [
    "sbi_open = data[[\"close\"]]\n",
    "sbi_open.plot()"
   ]
  },
  {
   "cell_type": "code",
   "execution_count": null,
   "id": "16022eda",
   "metadata": {},
   "outputs": [],
   "source": [
    "import matplotlib.pyplot as plt"
   ]
  },
  {
   "cell_type": "code",
   "execution_count": null,
   "id": "74480ab9",
   "metadata": {},
   "outputs": [],
   "source": [
    "sbi_val = sbi_open.values"
   ]
  },
  {
   "cell_type": "code",
   "execution_count": null,
   "id": "6eee28a6",
   "metadata": {},
   "outputs": [],
   "source": [
    "plt.plot(sbi_val)"
   ]
  },
  {
   "cell_type": "code",
   "execution_count": null,
   "id": "82c86e63",
   "metadata": {},
   "outputs": [],
   "source": [
    "import numpy as np\n",
    "from sklearn.preprocessing import MinMaxScaler"
   ]
  },
  {
   "cell_type": "code",
   "execution_count": null,
   "id": "77616f2f",
   "metadata": {},
   "outputs": [],
   "source": [
    "normalizer = MinMaxScaler(feature_range=(0,1))\n",
    "data_scaled = normalizer.fit_transform(np.array(sbi_val).reshape(-1,1))"
   ]
  },
  {
   "cell_type": "code",
   "execution_count": null,
   "id": "6e534a50",
   "metadata": {},
   "outputs": [],
   "source": [
    "len(data_scaled), len(sbi_val)"
   ]
  },
  {
   "cell_type": "code",
   "execution_count": null,
   "id": "d19d2207",
   "metadata": {},
   "outputs": [],
   "source": [
    "# Splitting the data into train & test\n",
    "train_size = int(len(data_scaled)*0.7)\n",
    "test_size = len(data_scaled) - train_size"
   ]
  },
  {
   "cell_type": "code",
   "execution_count": null,
   "id": "fdf04f45",
   "metadata": {},
   "outputs": [],
   "source": [
    "train_size, test_size"
   ]
  },
  {
   "cell_type": "code",
   "execution_count": null,
   "id": "23fddfab",
   "metadata": {},
   "outputs": [],
   "source": [
    "data_scaled.shape"
   ]
  },
  {
   "cell_type": "code",
   "execution_count": null,
   "id": "7b6757e7",
   "metadata": {},
   "outputs": [],
   "source": [
    "data_scaled[0:train_size].shape"
   ]
  },
  {
   "cell_type": "code",
   "execution_count": null,
   "id": "bd336bcb",
   "metadata": {},
   "outputs": [],
   "source": [
    " data_scaled[train_size:len(data_scaled)].shape"
   ]
  },
  {
   "cell_type": "code",
   "execution_count": null,
   "id": "66c5a6d1",
   "metadata": {},
   "outputs": [],
   "source": [
    "# splitting data into train & test\n",
    "data_train, data_test = data_scaled[0:train_size], data_scaled[train_size:len(data_scaled)]"
   ]
  },
  {
   "cell_type": "code",
   "execution_count": null,
   "id": "aa2842f7",
   "metadata": {},
   "outputs": [],
   "source": [
    "data_train.shape, data_test.shape"
   ]
  },
  {
   "cell_type": "code",
   "execution_count": null,
   "id": "d52450c8",
   "metadata": {},
   "outputs": [],
   "source": [
    "len(data_train) - 100"
   ]
  },
  {
   "cell_type": "code",
   "execution_count": null,
   "id": "6b0648a7",
   "metadata": {},
   "outputs": [],
   "source": [
    "# Creating a dataset in timeseries for LSTM model\n",
    "\n",
    "def create_data(dataset, step):\n",
    "    Xtrain,ytrain = [],[]\n",
    "    for i in range(len(dataset) - step - 1):\n",
    "        a = dataset[i:(i+step),0]\n",
    "        Xtrain.append(a)\n",
    "        ytrain.append(dataset[i + step, 0])\n",
    "        \n",
    "    return np.array(Xtrain), np.array(ytrain)"
   ]
  },
  {
   "cell_type": "code",
   "execution_count": null,
   "id": "afdd5530",
   "metadata": {},
   "outputs": [],
   "source": [
    "# Taking 100 days price as one record for training\n",
    "\n",
    "time_stamp = 200\n",
    "\n",
    "X_train, y_train = create_data(data_train, time_stamp)\n",
    "X_test, y_test = create_data(data_test, time_stamp)"
   ]
  },
  {
   "cell_type": "code",
   "execution_count": null,
   "id": "56f85c0b",
   "metadata": {},
   "outputs": [],
   "source": [
    "X_train.shape, y_train.shape, X_test.shape, y_test.shape"
   ]
  },
  {
   "cell_type": "code",
   "execution_count": null,
   "id": "4630858c",
   "metadata": {},
   "outputs": [],
   "source": [
    "X_train.shape[0],X_train.shape[1]"
   ]
  },
  {
   "cell_type": "code",
   "execution_count": null,
   "id": "fe2b7f0a",
   "metadata": {},
   "outputs": [],
   "source": [
    "X_train.reshape(X_train.shape[0], X_train.shape[1],1)"
   ]
  },
  {
   "cell_type": "code",
   "execution_count": null,
   "id": "b07294f7",
   "metadata": {},
   "outputs": [],
   "source": [
    "X_train = X_train.reshape(X_train.shape[0], X_train.shape[1],1)\n",
    "X_test = X_test.reshape(X_test.shape[0], X_test.shape[1],1)"
   ]
  },
  {
   "cell_type": "code",
   "execution_count": null,
   "id": "50d1b896",
   "metadata": {},
   "outputs": [],
   "source": [
    "# Reshaping the datato fit into LSTM model\n",
    "X_train.shape, X_test.shape"
   ]
  },
  {
   "cell_type": "code",
   "execution_count": null,
   "id": "5ba714a4",
   "metadata": {},
   "outputs": [],
   "source": [
    "from keras.models import Sequential\n",
    "from keras.layers import Dense, LSTM, GRU"
   ]
  },
  {
   "cell_type": "code",
   "execution_count": null,
   "id": "e115b37e",
   "metadata": {},
   "outputs": [],
   "source": [
    "# Creating LSTM model using keras\n",
    "model = Sequential()\n",
    "model.add(LSTM(units = 100, return_sequences = True, input_shape = (X_train.shape[1],1)))\n",
    "model.add(LSTM(units = 100, return_sequences = True))\n",
    "model.add(LSTM(units = 100, return_sequences = True))\n",
    "model.add(GRU(units = 100))\n",
    "model.add(Dense(units = 1, activation = \"linear\"))"
   ]
  },
  {
   "cell_type": "code",
   "execution_count": null,
   "id": "8ea3692c",
   "metadata": {},
   "outputs": [],
   "source": [
    "model.summary()"
   ]
  },
  {
   "cell_type": "code",
   "execution_count": null,
   "id": "9abe4a09",
   "metadata": {},
   "outputs": [],
   "source": [
    "model.compile(loss = \"mean_squared_error\", optimizer = \"adam\", metrics=[\"accuracy\"])\n",
    "model.fit(X_train, y_train, validation_data = (X_test, y_test), epochs = 100)"
   ]
  },
  {
   "cell_type": "code",
   "execution_count": null,
   "id": "8d57be14",
   "metadata": {},
   "outputs": [],
   "source": [
    "loss = model.history.history[\"loss\"]\n",
    "plt.plot(loss)"
   ]
  },
  {
   "cell_type": "code",
   "execution_count": null,
   "id": "9b504f30",
   "metadata": {},
   "outputs": [],
   "source": [
    "# predicting on train & test data\n",
    "train_predict = model.predict(X_train)\n",
    "test_predict = model.predict(X_test)"
   ]
  },
  {
   "cell_type": "code",
   "execution_count": null,
   "id": "037f89eb",
   "metadata": {},
   "outputs": [],
   "source": [
    "# Inverse transform to get actual value\n",
    "train_predict = normalizer.inverse_transform(train_predict)\n",
    "\n",
    "test_predict = normalizer.inverse_transform(test_predict)"
   ]
  },
  {
   "cell_type": "code",
   "execution_count": null,
   "id": "30609bab",
   "metadata": {},
   "outputs": [],
   "source": [
    "plt.plot(normalizer.inverse_transform(data_train),color = \"b\", label = \"actual\")\n",
    "plt.plot(train_predict, color = 'r', label = \"train\")\n",
    "plt.plot(test_predict, color = 'g',label = \"test\")\n",
    "plt.legend()\n",
    "plt.show()"
   ]
  },
  {
   "cell_type": "code",
   "execution_count": null,
   "id": "b4fc0a04",
   "metadata": {},
   "outputs": [],
   "source": []
  }
 ],
 "metadata": {
  "kernelspec": {
   "display_name": "algotrade01",
   "language": "python",
   "name": "algotrade01"
  },
  "language_info": {
   "codemirror_mode": {
    "name": "ipython",
    "version": 3
   },
   "file_extension": ".py",
   "mimetype": "text/x-python",
   "name": "python",
   "nbconvert_exporter": "python",
   "pygments_lexer": "ipython3",
   "version": "3.8.17"
  }
 },
 "nbformat": 4,
 "nbformat_minor": 5
}
